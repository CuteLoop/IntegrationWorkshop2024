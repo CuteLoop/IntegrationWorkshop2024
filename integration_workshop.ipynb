{
  "nbformat": 4,
  "nbformat_minor": 0,
  "metadata": {
    "colab": {
      "provenance": [],
      "include_colab_link": true
    },
    "kernelspec": {
      "name": "python3",
      "display_name": "Python 3"
    },
    "language_info": {
      "name": "python"
    }
  },
  "cells": [
    {
      "cell_type": "markdown",
      "metadata": {
        "id": "view-in-github",
        "colab_type": "text"
      },
      "source": [
        "<a href=\"https://colab.research.google.com/github/CuteLoop/IntegrationWorkshop2024/blob/main/integration_workshop.ipynb\" target=\"_parent\"><img src=\"https://colab.research.google.com/assets/colab-badge.svg\" alt=\"Open In Colab\"/></a>"
      ]
    },
    {
      "cell_type": "markdown",
      "source": [
        "# Programming Bootcamp: Day 1\n",
        "## Basic Operations, Data Structures"
      ],
      "metadata": {
        "id": "PJU8Ij2Vy70j"
      }
    },
    {
      "cell_type": "markdown",
      "source": [
        "Variables in Python are names that reference data stored in memory. They can hold different data types (like numbers, strings, or objects) and can be reassigned to new values at any time.\n",
        "We assign data to a variable using the `=` sign."
      ],
      "metadata": {
        "id": "XNsRzp6IaVzx"
      }
    },
    {
      "cell_type": "code",
      "source": [
        "a = 1 # Integer -- notice how there are no decimals\n",
        "b = 1.0 # Float -- this is CS speak for 'real number'. Integers will be stored as the float type if they include a decimal!\n",
        "c = 1.0 + 0j # Complex number -- here `j` represents the complex part\n",
        "d = '1' # String -- a sequence of characters meant to act like a word.\n",
        "e = True # Bool -- short for Boolean, can be one of two values, True of False\n",
        "f = [1,1] # List -- stores a sequence of data. The data could also be variables themselves.\n",
        "g = (1,1) # Tuple -- also stores data, but has less structure than a list\n",
        "h = range(1) # Range -- represents a sequence of numbers, typically used for iteration in loops.\n",
        "i = {'one': 1} # # Dict -- stores data as key-value pairs, allowing for fast lookups by key."
      ],
      "metadata": {
        "id": "ygTsSgvizDro"
      },
      "execution_count": null,
      "outputs": []
    },
    {
      "cell_type": "code",
      "source": [],
      "metadata": {
        "id": "E8SIK3V8cI6C"
      },
      "execution_count": null,
      "outputs": []
    },
    {
      "cell_type": "markdown",
      "source": [
        "How do these differ? They are all different data types. You can check the type of a variable by using `type(variable_name)`:"
      ],
      "metadata": {
        "id": "IEpmMqjOazUU"
      }
    },
    {
      "cell_type": "code",
      "source": [
        "print(type(a))\n",
        "print(type(b))\n",
        "print(type(c))\n",
        "print(type(d))\n",
        "print(type(e))\n",
        "print(type(f))\n",
        "print(type(g))\n",
        "print(type(h))\n",
        "print(type(i))"
      ],
      "metadata": {
        "colab": {
          "base_uri": "https://localhost:8080/"
        },
        "id": "eXg_adTSaw8e",
        "outputId": "91186238-6eea-46ee-b387-26c417c6d7f3"
      },
      "execution_count": null,
      "outputs": [
        {
          "output_type": "stream",
          "name": "stdout",
          "text": [
            "<class 'int'>\n",
            "<class 'float'>\n",
            "<class 'complex'>\n",
            "<class 'str'>\n",
            "<class 'bool'>\n",
            "<class 'list'>\n",
            "<class 'tuple'>\n",
            "<class 'range'>\n",
            "<class 'dict'>\n"
          ]
        }
      ]
    },
    {
      "cell_type": "markdown",
      "source": [
        "Each data type has a different set of operations, many of which use the same symbols. You need to know what type of data type you have in order to know what the operator will do. Most numeric types do exactly what you think they will!"
      ],
      "metadata": {
        "id": "rCzDRNzMbQRO"
      }
    },
    {
      "cell_type": "code",
      "source": [
        "print(a+a)"
      ],
      "metadata": {
        "id": "Y3kRAyykz0T4",
        "colab": {
          "base_uri": "https://localhost:8080/"
        },
        "outputId": "b05dfde7-e325-4a20-9ca1-bdc44f2de8a0"
      },
      "execution_count": null,
      "outputs": [
        {
          "output_type": "stream",
          "name": "stdout",
          "text": [
            "2\n"
          ]
        }
      ]
    },
    {
      "cell_type": "markdown",
      "source": [
        "In Python, you are sometimes allowed to perform operations between 2 different types of variables, this isn't the case in every language. It's important to know how it handles this. Play around with the cell below to see how different types get added together."
      ],
      "metadata": {
        "id": "Zxig9ZYKbe8j"
      }
    },
    {
      "cell_type": "code",
      "source": [
        "a_plus_c = a+c\n",
        "print(a_plus_c)\n",
        "print(type(a_plus_c))\n",
        "print(type(d + d))"
      ],
      "metadata": {
        "colab": {
          "base_uri": "https://localhost:8080/"
        },
        "id": "V_pqOei_bVxA",
        "outputId": "f96a64b3-358d-4491-a95d-711ff1d7c70a"
      },
      "execution_count": null,
      "outputs": [
        {
          "output_type": "stream",
          "name": "stdout",
          "text": [
            "(2+0j)\n",
            "<class 'complex'>\n",
            "<class 'str'>\n"
          ]
        }
      ]
    },
    {
      "cell_type": "markdown",
      "source": [
        "Casting data types: it's possible to manually change the data type of a variable, an operation called \"casting\", but do so with caution. As is the case with all programming, order of operations is very important:"
      ],
      "metadata": {
        "id": "v9C5rbSQb1OF"
      }
    },
    {
      "cell_type": "code",
      "source": [
        "# Converting a float to an integer\n",
        "f = 5.7\n",
        "int_f = int(f)  # Result is 5 (truncates the decimal part)\n",
        "print(\"int_f:\", int_f, type(int_f))\n",
        "\n",
        "# Converting an integer to a string\n",
        "num = 123\n",
        "str_num = str(num)  # Result is '123'\n",
        "print(\"str_num:\", str_num, type(str_num))\n",
        "\n",
        "# Converting a string to a float\n",
        "str_float = \"9.81\"\n",
        "float_value = float(str_float)  # Result is 9.81\n",
        "print(\"float_value:\", float_value, type(float_value))\n",
        "\n",
        "# Casting a boolean to an integer\n",
        "boolean_val = True\n",
        "int_bool = int(boolean_val)  # Result is 1 (True converts to 1, False would convert to 0)\n",
        "print(\"int_bool\", int_bool, type(int_bool))"
      ],
      "metadata": {
        "id": "YNQFIstc4RV1",
        "colab": {
          "base_uri": "https://localhost:8080/"
        },
        "outputId": "dfc7d205-0dd9-4e2c-eec3-4bceadecffca"
      },
      "execution_count": null,
      "outputs": [
        {
          "output_type": "stream",
          "name": "stdout",
          "text": [
            "int_f: 5 <class 'int'>\n",
            "str_num: 123 <class 'str'>\n",
            "float_value: 9.81 <class 'float'>\n",
            "int_bool 1 <class 'int'>\n",
            "sol1 = 60\n",
            "sol2 = 330\n",
            "sol3 = 1815\n"
          ]
        }
      ]
    },
    {
      "cell_type": "code",
      "source": [
        "# Order of operations is important!\n",
        "a = 5  # Integer\n",
        "b = '3'  # String representing an integer\n",
        "\n",
        "sol1 = (int(b) + int(b)) * (a + a)\n",
        "sol2 = int(b + b) * (a + a)\n",
        "sol3 = int(b + b) * int(str(a) + str(a))\n",
        "\n",
        "print(f'sol1 = {sol1}')  # Sol1 performs integer addition and multiplication: (3 + 3) * (5 + 5) = 6 * 10 = 60\n",
        "print(f'sol2 = {sol2}')  # Sol2 performs string concatenation first, then converts to int: int('33') * (5 + 5) = 33 * 10 = 330\n",
        "print(f'sol3 = {sol3}')  # Sol3 performs string concatenation, converts back to int: int('33') * int('55') = 33 * 55 = 1815"
      ],
      "metadata": {
        "colab": {
          "base_uri": "https://localhost:8080/"
        },
        "id": "D-oiaGevkuxV",
        "outputId": "f3f0ebee-60db-4cdf-ec57-025871739b6d"
      },
      "execution_count": null,
      "outputs": [
        {
          "output_type": "stream",
          "name": "stdout",
          "text": [
            "sol1 = 60\n",
            "sol2 = 330\n",
            "sol3 = 1815\n"
          ]
        }
      ]
    },
    {
      "cell_type": "markdown",
      "source": [
        "It's also possible to perform addition, subtraction, multiplication, exponentiation, and division between most numeric variable types.\n",
        "Subtraction is performed with `-`, multiplication is performed with `*`, and exponentiation is performed with `**`:"
      ],
      "metadata": {
        "id": "JZY2rloVccCA"
      }
    },
    {
      "cell_type": "code",
      "source": [
        "a = 5  # Integer\n",
        "b = 2.0  # Float\n",
        "c = 3 + 4j  # Complex number\n",
        "\n",
        "# Addition\n",
        "result_add = a + b  # 7.0 (integer + float)\n",
        "print(\"Addition:\", result_add)\n",
        "\n",
        "# Subtraction\n",
        "result_sub = b - a  # -3.0 (float - integer)\n",
        "print(\"Subtraction:\", result_sub)\n",
        "\n",
        "# Multiplication\n",
        "result_mul = a * c  # 15 + 20j (integer * complex)\n",
        "print(\"Multiplication:\", result_mul)\n",
        "\n",
        "# Exponentiation\n",
        "result_exp = a ** b  # 25.0 (integer ** float)\n",
        "print(\"Exponentiation:\", result_exp)"
      ],
      "metadata": {
        "colab": {
          "base_uri": "https://localhost:8080/"
        },
        "id": "LjTgECvLdD1L",
        "outputId": "f3e14474-3e88-4820-9c18-21988c8b1a9f"
      },
      "execution_count": null,
      "outputs": [
        {
          "output_type": "stream",
          "name": "stdout",
          "text": [
            "Addition: 7.0\n",
            "Subtraction: -3.0\n",
            "Multiplication: (15+20j)\n",
            "Exponentiation: 25.0\n"
          ]
        }
      ]
    },
    {
      "cell_type": "markdown",
      "source": [
        "There are three main operators used to perform division in Python:\n",
        "the `/` operator will divide two numbers and return a floating point (real-valued) value, even if you are dividing two `int`s (this is different from many other programming languages, which will return an integer if two `int`s are divided):"
      ],
      "metadata": {
        "id": "XHMIVedTdOqc"
      }
    },
    {
      "cell_type": "code",
      "source": [
        "a = 10\n",
        "b = 3\n",
        "\n",
        "result1 = a / b  # Result is 3.3333333333333335 (float)\n",
        "print(result1, type(result1))\n",
        "\n",
        "c = 8\n",
        "d = 4\n",
        "\n",
        "result2 = c / d  # Result is 2.0 (float, even though both are ints)\n",
        "print(result2, type(result2))"
      ],
      "metadata": {
        "id": "1H1AAaLcZ43d",
        "colab": {
          "base_uri": "https://localhost:8080/"
        },
        "outputId": "a2e3fbaf-eead-4ba0-cc23-237f1473c77c"
      },
      "execution_count": null,
      "outputs": [
        {
          "output_type": "stream",
          "name": "stdout",
          "text": [
            "3.3333333333333335 <class 'float'>\n",
            "2.0 <class 'float'>\n"
          ]
        }
      ]
    },
    {
      "cell_type": "markdown",
      "source": [
        "The second operator is `//`, which returns the largest integer less than or equal to the quotient--in other words, it computes $\\text{floor}\\left(\\frac{a}{b}\\right)$. This operator will return an `int` value."
      ],
      "metadata": {
        "id": "i-HV7Xr6doQf"
      }
    },
    {
      "cell_type": "code",
      "source": [
        "a = 10\n",
        "b = 3\n",
        "\n",
        "result1 = a // b  # Result is 3 (int)\n",
        "print(result1, type(result1))\n",
        "\n",
        "c = 8\n",
        "d = 3\n",
        "\n",
        "result2 = c // d  # Result is 2 (int)\n",
        "print(result2, type(result2))\n"
      ],
      "metadata": {
        "id": "aWDzMjfoakmg",
        "colab": {
          "base_uri": "https://localhost:8080/"
        },
        "outputId": "2de287cb-04dc-4590-983b-141f1238bea9"
      },
      "execution_count": null,
      "outputs": [
        {
          "output_type": "stream",
          "name": "stdout",
          "text": [
            "3 <class 'int'>\n",
            "2 <class 'int'>\n"
          ]
        }
      ]
    },
    {
      "cell_type": "markdown",
      "source": [
        "The final way to divide numbers in Python is to use the modulus operator, `%`. This operator returns the integer remainder of the division of two numbers, i.e., it computes $a\\mod b$:"
      ],
      "metadata": {
        "id": "7sSLeICheXPz"
      }
    },
    {
      "cell_type": "code",
      "source": [
        "a = 10\n",
        "b = 3\n",
        "\n",
        "result1 = a % b  # Result is 1 (remainder of 10 divided by 3)\n",
        "print(result1)\n",
        "\n",
        "c = 8\n",
        "d = 5\n",
        "\n",
        "result2 = c % d  # Result is 3 (remainder of 8 divided by 5)\n",
        "print(result2)"
      ],
      "metadata": {
        "id": "2DxHD09Ua30-",
        "colab": {
          "base_uri": "https://localhost:8080/"
        },
        "outputId": "29630ca3-f7d9-4c85-de38-80344e30b1ba"
      },
      "execution_count": null,
      "outputs": [
        {
          "output_type": "stream",
          "name": "stdout",
          "text": [
            "1\n",
            "3\n"
          ]
        }
      ]
    },
    {
      "cell_type": "markdown",
      "source": [
        "While you can perform mathematical operations on numeric data types, some other data types have special properties or operations that can be performed on them too. For example, the `str` (string) data type has many different useful features, such as concatenation, repetition, and various built-in methods for manipulation and formatting."
      ],
      "metadata": {
        "id": "r77g6l9ngWkB"
      }
    },
    {
      "cell_type": "code",
      "source": [
        "# String concatenation\n",
        "str1 = \"Hello\"\n",
        "str2 = \"World\"\n",
        "result = str1 + \" \" + str2  # Result is \"Hello World\"\n",
        "print(result)\n",
        "\n",
        "# String repetition\n",
        "repeat_str = \"Hi! \"\n",
        "result = repeat_str * 3  # Result is \"Hi! Hi! Hi! \"\n",
        "print(result)\n",
        "\n",
        "# Using a string method: converting to uppercase\n",
        "original_str = \"python is fun\"\n",
        "upper_str = original_str.upper()  # Result is \"PYTHON IS FUN\"\n",
        "print(upper_str)\n",
        "\n",
        " # Indexing a string: selecting pieces of the string by their position\n",
        "first_letter = original_str[0] # Result is 'p', the 1st letter in \"python is fun\". Notice the indices start at 0!\n",
        "third_letter = original_str[2] # Result is 't', the 3rd letter in \"python is fun\".\n",
        "\n",
        "first_word = original_str[0:6] # Result is 'python'. The syntax is string[start position : end position + 1]\n",
        "print(third_letter)\n",
        "print(first_letter)\n",
        "print(first_word)\n",
        "\n",
        "# Finding a substring\n",
        "index = original_str.find(\"fun\")  # Result is 10 (starting index of the substring \"fun\")\n",
        "selected_fun = original_str[index:index+3] # \"fun\" is 3 letters long so we want to select 3 letters after the starting index\n",
        "print(index)\n",
        "print(selected_fun)"
      ],
      "metadata": {
        "colab": {
          "base_uri": "https://localhost:8080/"
        },
        "id": "EcvZtpqNhg2Q",
        "outputId": "2074aad2-84ef-46f3-814c-159f47edcb2d"
      },
      "execution_count": null,
      "outputs": [
        {
          "output_type": "stream",
          "name": "stdout",
          "text": [
            "Hello World\n",
            "Hi! Hi! Hi! \n",
            "PYTHON IS FUN\n",
            "t\n",
            "p\n",
            "python\n",
            "10\n",
            "fun\n"
          ]
        }
      ]
    },
    {
      "cell_type": "markdown",
      "source": [
        "# Basic Data Types and Operations Exercises\n",
        "\n",
        "## Basic Exercises\n",
        "\n",
        "1. Create two variables, one holding an integer and another holding a float. Perform addition, subtraction, multiplication, and division operations between them. Print the results and their types.\n",
        "\n",
        "2. Given the string \"Python\", print its length, convert it to uppercase, and then print the third character of the resulting string.\n",
        "\n",
        "3. Create a variable storing your age as an integer. Convert it to a string and concatenate it with the phrase \"I am \" at the beginning and \" years old\" at the end. Print the result.\n",
        "\n",
        "4. Given the numbers 17 and 5, calculate and print the result of integer division and the remainder when 17 is divided by 5.\n",
        "\n",
        "## Medium Exercises\n",
        "1. Given a temperature in Celsius as a float, convert it to Fahrenheit using the formula: F = (C * 9/5) + 32. Round the result to two decimal places.\n",
        "\n",
        "2. Create a string containing a sentence. Count how many times the letter 'a' (case-insensitive) appears in the sentence. Then, replace all occurrences of the word 'the' with 'a' and print the result.\n",
        "\n",
        "## Hard Exercises\n",
        "\n",
        "1. Implement the quadratic formula to find the roots of a quadratic equation ax^2 + bx + c = 0. Take a, b, and c as input (assume they're always valid) and print the roots. Handle cases where the discriminant is negative, zero, or positive.\n",
        "\n",
        "2. Given a string representing a mathematical expression using only addition and subtraction (e.g., \"5-2+3-1\"), evaluate the expression and print the result. Assume all numbers in the expression are single-digit positive integers.\n",
        "\n",
        "## Very Hard Exercise\n",
        "\n",
        "1. Implement a function that takes a positive integer n and returns the nth Fibonacci number. Your implementation should be efficient enough to calculate F(1000) quickly. Hint: Consider using memoization or an iterative approach instead of naive recursion. After implementing the function, use it to find the last 3 digits of F(2024).\n"
      ],
      "metadata": {
        "id": "t97jY40E2yJZ"
      }
    },
    {
      "cell_type": "code",
      "source": [
        "# Space for exercises\n"
      ],
      "metadata": {
        "id": "pB9MOGMXDlfy"
      },
      "execution_count": null,
      "outputs": []
    },
    {
      "cell_type": "markdown",
      "source": [
        "## Lists and Dictionaries"
      ],
      "metadata": {
        "id": "hjBJ6WVqbhVt"
      }
    },
    {
      "cell_type": "markdown",
      "source": [
        "A list in Python is an ordered collection of items that can store elements of different types, including integers, strings, and even other lists. Lists are _mutable_, meaning their contents can be changed after creation. In Python, one list can contain multiple data types, which is uncommon in other programming languages."
      ],
      "metadata": {
        "id": "kaINfJBRf_DU"
      }
    },
    {
      "cell_type": "code",
      "source": [
        "l1 = [0, 1, 2, 3]\n",
        "l2 = ['alabama', 'alaska', 'arizona']\n",
        "l3 = [12.0+3j, 'potatoes', True, l1] # Notice how we put a list inside of this list!\n",
        "\n",
        "# we forgot arkansas! Let's add it to our list after the fact\n",
        "l2 = l2 + ['arkansas']\n",
        "\n",
        "# check that we have 4 states that start with a\n",
        "print(len(l2))\n",
        "print(l2)"
      ],
      "metadata": {
        "id": "l-yr1wuGboAg",
        "colab": {
          "base_uri": "https://localhost:8080/"
        },
        "outputId": "fd25e852-1a2d-4ddd-ec46-f5f4cea81e55"
      },
      "execution_count": null,
      "outputs": [
        {
          "output_type": "stream",
          "name": "stdout",
          "text": [
            "4\n",
            "['alabama', 'alaska', 'arizona', 'arkansas']\n"
          ]
        }
      ]
    },
    {
      "cell_type": "markdown",
      "source": [
        "We'll learn more about list operations later, but for now let's learn how to index lists and call member of a list. In Python, indexing begins with 0 (like we saw with strings!)."
      ],
      "metadata": {
        "id": "94PfpJtzlRvh"
      }
    },
    {
      "cell_type": "code",
      "source": [
        "print(f'We have defined {l1[3]} lists')\n",
        "print(f'We are in {l2[2]}')\n",
        "print(f'The first list we defined is {l3[-1]}')"
      ],
      "metadata": {
        "id": "7ElaL6q_boDZ",
        "colab": {
          "base_uri": "https://localhost:8080/"
        },
        "outputId": "c6fbec7d-aeb4-486d-83fa-861001cefc5e"
      },
      "execution_count": null,
      "outputs": [
        {
          "output_type": "stream",
          "name": "stdout",
          "text": [
            "We have defined 3 lists\n",
            "We are in arizona\n",
            "The first list we defined is [0, 1, 2, 3]\n"
          ]
        }
      ]
    },
    {
      "cell_type": "markdown",
      "source": [
        "You can access elements of a list using indexing and slicing. Indexing lets you retrieve a single element from the list by specifying its position, while slicing allows you to extract a portion of the list by specifying a range of positions, including a start and an end (though the end is non-inclusive)."
      ],
      "metadata": {
        "id": "0RY9aFtZomfX"
      }
    },
    {
      "cell_type": "code",
      "source": [
        "my_list = [10, 20, 30, 40, 50]\n",
        "\n",
        "# Indexing: Accessing a single element\n",
        "first_element = my_list[0]  # Access the first element (10)\n",
        "third_element = my_list[2]  # Access the third element (30)\n",
        "last_element = my_list[-1]  # Access the last element using negative indexing (50)\n",
        "\n",
        "print(f'First element: {first_element}')\n",
        "print(f'Third element: {third_element}')\n",
        "print(f'Last element: {last_element}')\n",
        "\n",
        "# Slicing: Accessing a sublist\n",
        "sublist_1 = my_list[1:4]  # Access elements from index 1 to 3 (20, 30, 40)\n",
        "sublist_2 = my_list[:3]   # Access elements from the start up to index 2 (10, 20, 30)\n",
        "sublist_3 = my_list[2:]   # Access elements from index 2 to the end (30, 40, 50)\n",
        "sublist_4 = my_list[-3:-1] # Access elements using negative indexing (30, 40)\n",
        "\n",
        "print(f'Sublist 1: {sublist_1}')\n",
        "print(f'Sublist 2: {sublist_2}')\n",
        "print(f'Sublist 3: {sublist_3}')\n",
        "print(f'Sublist 4: {sublist_4}')\n"
      ],
      "metadata": {
        "id": "KL2V0oYqA4v7",
        "colab": {
          "base_uri": "https://localhost:8080/"
        },
        "outputId": "03e283fa-eed2-4fc5-f8cc-114f03e9cb55"
      },
      "execution_count": null,
      "outputs": [
        {
          "output_type": "stream",
          "name": "stdout",
          "text": [
            "First element: 10\n",
            "Third element: 30\n",
            "Last element: 50\n",
            "Sublist 1: [20, 30, 40]\n",
            "Sublist 2: [10, 20, 30]\n",
            "Sublist 3: [30, 40, 50]\n",
            "Sublist 4: [30, 40]\n"
          ]
        }
      ]
    },
    {
      "cell_type": "markdown",
      "source": [
        "To add elements to a list, you can use the `append` or `extend` method. `append` adds a single element, while `extend` adds multiple elements."
      ],
      "metadata": {
        "id": "vGcomIjapYPd"
      }
    },
    {
      "cell_type": "code",
      "source": [
        "#What if I want to add more elements?\n",
        "my_list.append([1,2,3])\n",
        "print(my_list)\n",
        "my_list.extend([1,2,3]) #equivalent to scores + [1,2,3]\n",
        "print(my_list)"
      ],
      "metadata": {
        "id": "uFB_FysJsR3I",
        "colab": {
          "base_uri": "https://localhost:8080/"
        },
        "outputId": "f33378e4-3151-4bad-91fe-95d047eb6045"
      },
      "execution_count": null,
      "outputs": [
        {
          "output_type": "stream",
          "name": "stdout",
          "text": [
            "[10, 20, 30, 40, 50, [1, 2, 3]]\n",
            "[10, 20, 30, 40, 50, [1, 2, 3], 1, 2, 3]\n"
          ]
        }
      ]
    },
    {
      "cell_type": "markdown",
      "source": [
        "Notice how in the first line of code, the whole list got added as a single element in the list, but in the second the list was extended to include the new list!\n",
        "\n",
        "There are other useful functions that can be applied to lists:"
      ],
      "metadata": {
        "id": "6sV1JgNfpxbs"
      }
    },
    {
      "cell_type": "code",
      "source": [
        "scores = [50.2, 28.3, 9.1, 0.5]\n",
        "print(\"Starting scores:\", scores)\n",
        "\n",
        "# You can insert a value using scores.insert(a,b)\n",
        "# a is the index where you'd like to insert, b is the value you want to insert\n",
        "scores.insert(3, -3.5)\n",
        "print(\"Scores after inserting:\", scores)\n",
        "\n",
        "# scores.remove finds the first instance of the data you give it and removes it\n",
        "scores.remove(50.2)\n",
        "print(\"Scores after removing:\", scores)\n",
        "\n",
        "# Pop removes the last element of the list and returns that element\n",
        "# So you can store it as a new variable\n",
        "P = scores.pop()\n",
        "print(\"Scores after pop:\", scores)\n",
        "print(\"Popped value:\", P)\n",
        "\n",
        "# reverse reverses the order of the list\n",
        "scores.reverse()\n",
        "print(\"Scores after reversing:\", scores)\n",
        "\n",
        "# clear removes everything in the list\n",
        "scores.clear()\n",
        "print(\"Scores after clearing:\", scores)\n",
        "\n",
        "# copy creates a new copy of the list\n",
        "C = scores.copy()\n",
        "print(\"Copied scores:\", C)"
      ],
      "metadata": {
        "id": "3hWFapqJm_99",
        "colab": {
          "base_uri": "https://localhost:8080/"
        },
        "outputId": "fca2f2f0-176b-4dff-bfc7-a58ae1398fdc"
      },
      "execution_count": null,
      "outputs": [
        {
          "output_type": "stream",
          "name": "stdout",
          "text": [
            "Starting scores: [50.2, 28.3, 9.1, 0.5]\n",
            "Scores after inserting: [50.2, 28.3, 9.1, -3.5, 0.5]\n",
            "Scores after removing: [28.3, 9.1, -3.5, 0.5]\n",
            "Scores after pop: [28.3, 9.1, -3.5]\n",
            "Popped value: 0.5\n",
            "Scores after reversing: [-3.5, 9.1, 28.3]\n",
            "Scores after clearing: []\n",
            "Copied scores: []\n"
          ]
        }
      ]
    },
    {
      "cell_type": "markdown",
      "source": [
        "Python also provides other variable types that serve as collections of things, e.g. tuples, dictionaries, sets, etc. We won't go over all of these, but let's look at dictionaries. Dictionaries are an unordered collection of items that are indexed by strings. We call the indexing string the `key`."
      ],
      "metadata": {
        "id": "G1lhy9eiljtQ"
      }
    },
    {
      "cell_type": "code",
      "source": [
        "jake = {'age': 28,\n",
        "         'year_in_program': 2,\n",
        "         'home_state': 'utah'}\n",
        "# Oh no, we forgot a field we wanted to include. Let's add it after the fact\n",
        "jake['is_TA'] = True\n",
        "\n",
        "# now, to access an item from the dictionary, we must use the key.\n",
        "# You can see what keys a dictionary has like so:\n",
        "print(jake.keys())\n",
        "\n",
        "print('brian is from')\n",
        "print(jake['home_state'])\n",
        "\n",
        "# you can also save the key as a variable and index the dictionary with the\n",
        "# string variable\n",
        "key_of_interest = 'is_TA'\n",
        "print('Jake is a TA?')\n",
        "print(jake[key_of_interest])"
      ],
      "metadata": {
        "id": "PUrli2UKboGj",
        "colab": {
          "base_uri": "https://localhost:8080/"
        },
        "outputId": "ab162507-912c-4876-898a-326bc43bf874"
      },
      "execution_count": null,
      "outputs": [
        {
          "output_type": "stream",
          "name": "stdout",
          "text": [
            "dict_keys(['age', 'year_in_program', 'home_state', 'is_TA'])\n",
            "brian is from\n",
            "utah\n",
            "Jake is a TA?\n",
            "True\n"
          ]
        }
      ]
    },
    {
      "cell_type": "markdown",
      "source": [
        "# Lists and Dictionaries Exercises\n",
        "\n",
        "## Easy Exercises\n",
        "\n",
        "1. Create a list of the first 5 prime numbers. Then, append the next prime number to this list. Print the resulting list.\n",
        "\n",
        "2. Given the list [1, 2, 3, 4, 5], create a new list containing only the even numbers from the original list. Try to do this using the list operations above, and not just by typing a new list.\n",
        "\n",
        "3. Create a dictionary where the keys are the names of three countries, and the values are their respective capitals. Print the capital of the second country you added.\n",
        "\n",
        "4. Given the list [\"apple\", \"banana\", \"cherry\", \"date\", \"elderberry\"], use list slicing to create a new list containing only the second, third, and fourth items.\n",
        "\n",
        "## Medium Exercises\n",
        "\n",
        "1. Start with the list [1, 2, 3, 4, 5]. Perform the following operations:\n",
        "   a) Square each number in the list\n",
        "   b) Remove all even numbers\n",
        "   c) Insert the sum of the remaining numbers at the beginning of the list\n",
        "   d) Sort the list in descending order\n",
        "   Print the list after each operation.\n",
        "\n",
        "2. Create a dictionary of student names and their scores on three tests. Calculate and store the average score for each student in a new dictionary. Then, create another dictionary containing only the students whose average score is above the overall average of the class.\n",
        "\n",
        "3. Given a list of integers, find the longest consecutive sequence of numbers in the list. For example, if the input is [100, 4, 200, 1, 3, 2], the output should be [1, 2, 3, 4]. If there are multiple sequences of the same length, return any one of them.\n",
        "\n",
        "## Hard Exercises\n",
        "\n",
        "1. Given a list of integers, create a new list where each element is the product of all other elements in the original list, without using division. For example, if the input is [1, 2, 3, 4], the output should be [24, 12, 8, 6].\n",
        "\n",
        "2. Create a dictionary where the keys are words and the values are lists of indices where those words appear in a given string. Ignore punctuation and treat words as case-insensitive. For example, given the string \"The quick brown fox jumps over the lazy dog\", the entry for \"the\" would be [0, 6].\n",
        "\n",
        "## Very Hard Exercise\n",
        "1. Create a function that takes a list of dictionaries, where each dictionary represents a product with the keys `\"name\"`, `\"price\"`, and `\"quantity\"`. Your task is to:\n",
        "  1. Sort the list of products by `\"price\"` in descending order.\n",
        "  2. After sorting, create a new dictionary that groups the products by the first letter of the `\"name\"`. The keys of this dictionary should be the first letters, and the values should be lists of products (dictionaries) that start with that letter.\n",
        "  3. For each group, calculate the total inventory value (sum of `price * quantity`) and store this in a new dictionary where the keys are the group letters and the values are the total inventory value.\n",
        "\n",
        "- Example:\n",
        "  ```python\n",
        "  products = [\n",
        "      {\"name\": \"apple\", \"price\": 5, \"quantity\": 50},\n",
        "      {\"name\": \"banana\", \"price\": 2, \"quantity\": 150},\n",
        "      {\"name\": \"avocado\", \"price\": 8, \"quantity\": 30},\n",
        "      {\"name\": \"cherry\", \"price\": 10, \"quantity\": 20},\n",
        "  ]\n"
      ],
      "metadata": {
        "id": "PT-OHYMLgkcs"
      }
    },
    {
      "cell_type": "code",
      "source": [
        "# space for exercises\n"
      ],
      "metadata": {
        "id": "SkebcagOboMx"
      },
      "execution_count": null,
      "outputs": []
    },
    {
      "cell_type": "markdown",
      "source": [
        "### Control Flow\n",
        " 1. python indentation\n",
        " 2. `if/else`\n",
        " 3. `range`\n",
        " 4. `for` loop\n",
        " 5. `while` loop\n",
        " 6. `break` and `continue`"
      ],
      "metadata": {
        "id": "-vNM5IkJAxGZ"
      }
    },
    {
      "cell_type": "markdown",
      "source": [
        "#### If/Else\n",
        "`If/else` statements are one of the most essential concepts in any programming language. They allow your code to make decisions based on certain conditions. A condition is simply a statement that can either be `true` or `false`. When you write an `if/else` statement, the code first checks the condition:\n",
        "- If the condition is `true`, the code inside the `if` block runs.\n",
        "- If the condition is `false`, the code inside the `else` block runs instead.\n",
        "\n",
        "This helps your program choose between different actions depending on the situation.\n",
        "\n",
        "Typical operators used for comparison are:\n",
        "- `==` checks if two things are equal\n",
        "- `<` and `<` check strict inequality\n",
        "- `<=` and `>=` check for non-strict inequality\n",
        "\n",
        "#### Conditions\n",
        "Conditions are just simple statements that evaluate to `true` or `false`. You can also combine multiple conditions into one using logical operators like `and` and `or`:\n",
        "- **`and`**: All conditions must be `true` for the combined condition to be `true`.\n",
        "- **`or`**: At least one condition must be `true` for the combined condition to be `true`.\n",
        "\n",
        "These operators let you build more complex decision-making processes in your code. Try out changing the values in the conditions below to see how the results change."
      ],
      "metadata": {
        "id": "KkuRzAb1YG2E"
      }
    },
    {
      "cell_type": "code",
      "source": [
        "# Example 1: Basic if/else statement\n",
        "temperature = 100\n",
        "\n",
        "if temperature >= 100:\n",
        "    print(\"It's a typical day in Tucson.\")\n",
        "else:\n",
        "    print(\"Enjoy the nice cool weather!\")"
      ],
      "metadata": {
        "id": "pCnFrQVCYQfh",
        "colab": {
          "base_uri": "https://localhost:8080/"
        },
        "outputId": "4eff6ebc-8cc9-4027-8889-8b3289fbfd1e"
      },
      "execution_count": null,
      "outputs": [
        {
          "output_type": "stream",
          "name": "stdout",
          "text": [
            "It's a typical day in Tucson.\n"
          ]
        }
      ]
    },
    {
      "cell_type": "code",
      "source": [
        "# Example 2: Combining conditions with 'and'\n",
        "is_monsoon_season = True\n",
        "clouds_rolling_in = False\n",
        "\n",
        "if is_monsoon_season and clouds_rolling_in:\n",
        "    print(\"Get ready for a monsoon!\")\n",
        "else:\n",
        "    print(\"It might be a dry day despite the season.\")"
      ],
      "metadata": {
        "id": "5fUFHjqrYRwc",
        "colab": {
          "base_uri": "https://localhost:8080/"
        },
        "outputId": "2d52a98c-13df-4e6b-f631-0078f3f5f372"
      },
      "execution_count": null,
      "outputs": [
        {
          "output_type": "stream",
          "name": "stdout",
          "text": [
            "It might be a dry day despite the season.\n"
          ]
        }
      ]
    },
    {
      "cell_type": "code",
      "source": [
        "# Example 3: Combining conditions with 'or'\n",
        "time_of_day = \"night\"\n",
        "\n",
        "if time_of_day == \"night\" or time_of_day == \"early morning\":\n",
        "    print(\"Watch out for javelinas—they're most active during this time.\")\n",
        "\n",
        "else:\n",
        "    print(\"You probably won't see a javelina right now.\")"
      ],
      "metadata": {
        "id": "f9Zk7ZuOYSwZ",
        "colab": {
          "base_uri": "https://localhost:8080/"
        },
        "outputId": "851ff9a4-33e2-4a30-e9ab-b3f5a801702b"
      },
      "execution_count": null,
      "outputs": [
        {
          "output_type": "stream",
          "name": "stdout",
          "text": [
            "Watch out for javelinas—they're most active during this time.\n"
          ]
        }
      ]
    },
    {
      "cell_type": "code",
      "source": [
        "# Example 4: Nested if/else statements\n",
        "season = \"spring\"\n",
        "ocotillo_in_bloom = True\n",
        "\n",
        "if season == \"spring\":\n",
        "    if ocotillo_in_bloom:\n",
        "        print(\"The ocotillos are blooming beautifully! Great time for a hike.\")\n",
        "    else:\n",
        "        print(\"Keep an eye out for the ocotillo blooms—they should start soon.\")\n",
        "else:\n",
        "    print(\"The ocotillos are dormant; they usually come out in the spring.\")"
      ],
      "metadata": {
        "id": "IJaWmRXOYUgY",
        "colab": {
          "base_uri": "https://localhost:8080/"
        },
        "outputId": "1d4182d1-68aa-4ff8-b3a8-8fb8706a5d88"
      },
      "execution_count": null,
      "outputs": [
        {
          "output_type": "stream",
          "name": "stdout",
          "text": [
            "The ocotillos are blooming beautifully! Great time for a hike.\n"
          ]
        }
      ]
    },
    {
      "cell_type": "markdown",
      "source": [
        "#### Loops\n",
        "In Python, `for` loops are a way to repeat actions over a sequence of items, like elements in a list or numbers in a range. The `range()` function is often used with `for` loops to generate a sequence of numbers.\n",
        "\n",
        "#### Range\n",
        "The `range()` function creates a sequence of numbers. It's commonly used to loop through a specific number of times. You can use `range()` in several ways:\n",
        "- **`range(stop)`**: Generates numbers from 0 up to (but not including) `stop`.\n",
        "- **`range(start, stop)`**: Generates numbers from `start` up to (but not including) `stop`.\n",
        "- **`range(start, stop, step)`**: Generates numbers from `start` to `stop`, with a step (increment/decrement) between each number.\n",
        "\n",
        "#### For Loops\n",
        "A `for` loop allows you to iterate over a sequence (like a list, string, or the numbers generated by `range()`) and execute a block of code for each item in the sequence. For example, you can use a `for` loop to repeat an action a specific number of times or to perform operations on each element in a list.\n",
        "\n",
        "Together, `range()` and `for` loops make it easy to automate repetitive tasks, iterate through sequences, and manage loops efficiently.\n"
      ],
      "metadata": {
        "id": "ECs8lr8IYmoN"
      }
    },
    {
      "cell_type": "code",
      "source": [
        "range(10)"
      ],
      "metadata": {
        "colab": {
          "base_uri": "https://localhost:8080/"
        },
        "id": "wHtq6R8MFFgD",
        "outputId": "b8a8e5aa-ed28-46e8-b4bc-4109beee1108"
      },
      "execution_count": null,
      "outputs": [
        {
          "output_type": "execute_result",
          "data": {
            "text/plain": [
              "range(0, 10)"
            ]
          },
          "metadata": {},
          "execution_count": 9
        }
      ]
    },
    {
      "cell_type": "code",
      "source": [
        "range(1,10)"
      ],
      "metadata": {
        "id": "uB0-LJ5pYrfk",
        "colab": {
          "base_uri": "https://localhost:8080/"
        },
        "outputId": "d4091756-5c7b-4a80-a270-bc365b4f1dd5"
      },
      "execution_count": null,
      "outputs": [
        {
          "output_type": "execute_result",
          "data": {
            "text/plain": [
              "range(1, 10)"
            ]
          },
          "metadata": {},
          "execution_count": 10
        }
      ]
    },
    {
      "cell_type": "code",
      "source": [
        "range(1,10,2)"
      ],
      "metadata": {
        "id": "ocUOjegXYsdm",
        "colab": {
          "base_uri": "https://localhost:8080/"
        },
        "outputId": "bdcd8ef4-1422-4e01-ee89-9baa4c8b29a8"
      },
      "execution_count": null,
      "outputs": [
        {
          "output_type": "execute_result",
          "data": {
            "text/plain": [
              "range(1, 10, 2)"
            ]
          },
          "metadata": {},
          "execution_count": 11
        }
      ]
    },
    {
      "cell_type": "code",
      "source": [
        "# range(stop)\n",
        "print(\"range(5):\")\n",
        "for num in range(5):\n",
        "    print(num)  # Outputs: 0, 1, 2, 3, 4\n"
      ],
      "metadata": {
        "id": "NidCB9XqryJg"
      },
      "execution_count": null,
      "outputs": []
    },
    {
      "cell_type": "code",
      "source": [
        "# range(start, stop)\n",
        "print(\"\\nrange(2, 6):\")\n",
        "for num in range(2, 6):\n",
        "    print(num)  # Outputs: 2, 3, 4, 5\n"
      ],
      "metadata": {
        "id": "qNIIZcInr3oh"
      },
      "execution_count": null,
      "outputs": []
    },
    {
      "cell_type": "code",
      "source": [
        "# range(start, stop, step)\n",
        "print(\"\\nrange(1, 10, 2):\")\n",
        "for num in range(1, 10, 2):\n",
        "    print(num)  # Outputs: 1, 3, 5, 7, 9\n"
      ],
      "metadata": {
        "id": "68XWLC-Cr6m7"
      },
      "execution_count": null,
      "outputs": []
    },
    {
      "cell_type": "code",
      "source": [
        "print(\"\\nrange(10, 0, -2):\")\n",
        "for num in range(10, 0, -2):\n",
        "    print(num)  # Outputs: 10, 8, 6, 4, 2\n"
      ],
      "metadata": {
        "id": "Y9WPn931r8Jd"
      },
      "execution_count": null,
      "outputs": []
    },
    {
      "cell_type": "code",
      "source": [
        "# Loop through a list of items\n",
        "fruits = [\"apple\", \"banana\", \"cherry\"]\n",
        "print(\"\\nLooping through a list of fruits:\")\n",
        "for fruit in fruits:\n",
        "    print(fruit)  # Outputs: apple, banana, cherry"
      ],
      "metadata": {
        "id": "ca5yD1U7r_wr"
      },
      "execution_count": null,
      "outputs": []
    },
    {
      "cell_type": "code",
      "source": [
        "# Loop through a string (character by character)\n",
        "word = \"Tucson\"\n",
        "print(\"\\nLooping through the characters in a string:\")\n",
        "for letter in word:\n",
        "    print(letter)  # Outputs: T, u, c, s, o, n"
      ],
      "metadata": {
        "id": "_TqORMXZsB4F"
      },
      "execution_count": null,
      "outputs": []
    },
    {
      "cell_type": "markdown",
      "source": [
        "#### for loop\n",
        "Many times we want to iterate over a collection, and perform an action for each member of that collection."
      ],
      "metadata": {
        "id": "a5QrrzGiYuuO"
      }
    },
    {
      "cell_type": "code",
      "source": [
        "for i in range(10):\n",
        "  print(i)"
      ],
      "metadata": {
        "id": "bp-yiwg7Y8PS"
      },
      "execution_count": null,
      "outputs": []
    },
    {
      "cell_type": "code",
      "source": [
        "for i in range(1,10):\n",
        "  print(i)"
      ],
      "metadata": {
        "id": "HIxK3yBcY_cT"
      },
      "execution_count": null,
      "outputs": []
    },
    {
      "cell_type": "code",
      "source": [
        "for i in range(1, 10, 2):\n",
        "  print(i)"
      ],
      "metadata": {
        "id": "lr2EOz5GZBqy"
      },
      "execution_count": null,
      "outputs": []
    },
    {
      "cell_type": "code",
      "source": [
        "x = [1, 2, 5, 7, 8, 3, 10];\n",
        "for i in range(len(x)):\n",
        "    print(x[i]+1)\n",
        "\n",
        "\n",
        "for idx, num in enumerate(x):\n",
        "  print(idx)\n",
        "  print(num)"
      ],
      "metadata": {
        "id": "T6vO-Ch9ZEhS"
      },
      "execution_count": null,
      "outputs": []
    },
    {
      "cell_type": "code",
      "source": [
        "for i in range(len(x)):\n",
        "    if (x[i] > 5):\n",
        "        print(x[i]+1);\n",
        "    else:\n",
        "        print(x[i]-1);"
      ],
      "metadata": {
        "id": "OS7LF3QHZGka"
      },
      "execution_count": null,
      "outputs": []
    },
    {
      "cell_type": "markdown",
      "source": [
        "### While Loops\n",
        "\n",
        "A `while` loop allows you to repeatedly execute a block of code as long as a specified condition is `true`. Unlike `for` loops, which iterate over a sequence, `while` loops keep running until the condition becomes `false`.\n",
        "\n",
        "#### Basic Structure\n",
        "The basic structure of a `while` loop looks like this:\n",
        "\n",
        "```\n",
        "while condition:\n",
        "    # code to execute repeatedly\n",
        "```\n",
        "<u>Warning: `while` loops are an easy way to create an infinite loop.</u>"
      ],
      "metadata": {
        "id": "GOC0EUdDZIeS"
      }
    },
    {
      "cell_type": "code",
      "source": [
        "# Example 1: Basic while loop\n",
        "count = 0\n",
        "\n",
        "print(\"Counting to 5:\")\n",
        "while count < 5:\n",
        "    print(count)\n",
        "    count += 1  # Increment count by 1 each time"
      ],
      "metadata": {
        "id": "WhbAHvV8ZKrR"
      },
      "execution_count": null,
      "outputs": []
    },
    {
      "cell_type": "code",
      "source": [
        "# Example 2: Using a while loop to simulate a process\n",
        "temperature = 105  # Starting temperature in degrees Fahrenheit\n",
        "\n",
        "print(\"\\nCooling down:\")\n",
        "while temperature > 98:\n",
        "    print(f\"Temperature: {temperature}°F\")\n",
        "    temperature -= 1  # Decrease temperature by 1 degree each time\n",
        "\n",
        "print(\"The temperature is now comfortable.\")\n"
      ],
      "metadata": {
        "id": "Q26T97yytxi9"
      },
      "execution_count": null,
      "outputs": []
    },
    {
      "cell_type": "code",
      "source": [
        "# Example 3: Countdown using a while loop\n",
        "countdown = 10\n",
        "\n",
        "print(\"\\nCountdown:\")\n",
        "while countdown > 0:\n",
        "    print(countdown)\n",
        "    countdown -= 1  # Decrease countdown by 1 each time\n",
        "\n",
        "print(\"Liftoff!\")"
      ],
      "metadata": {
        "id": "IMRHsduNty8Q"
      },
      "execution_count": null,
      "outputs": []
    },
    {
      "cell_type": "code",
      "source": [
        "# Example 4: Popping a list using a while loop\n",
        "x = [1, 2, 5, 7, 8, 3, 10]\n",
        "\n",
        "while (len(x) >= 1):\n",
        "    print(x)\n",
        "    x.pop()"
      ],
      "metadata": {
        "id": "ZSSi1uv0ZMCZ",
        "colab": {
          "base_uri": "https://localhost:8080/"
        },
        "outputId": "d49e572c-d771-4eb4-b198-25ccb8e0eac9"
      },
      "execution_count": null,
      "outputs": [
        {
          "output_type": "stream",
          "name": "stdout",
          "text": [
            "[1, 2, 5, 7, 8, 3, 10]\n",
            "[1, 2, 5, 7, 8, 3]\n",
            "[1, 2, 5, 7, 8]\n",
            "[1, 2, 5, 7]\n",
            "[1, 2, 5]\n",
            "[1, 2]\n",
            "[1]\n"
          ]
        }
      ]
    },
    {
      "cell_type": "markdown",
      "source": [
        "#### break and continue\n",
        "`break` and `continue` are more advanced controls used within loops and conditionals. `break` tells the program to leave the code block, whether the block is an `if/else` or a loop. `continue` is used within loops to stop processing the current iteration, and begin the next.\n",
        "\n",
        "These have their applications, but there is almost always a better way that avoids using them."
      ],
      "metadata": {
        "id": "4gZl1MF-ZQWc"
      }
    },
    {
      "cell_type": "code",
      "source": [
        "x = [1, 2, 5, 7, 8, 3, 10];\n",
        "while (len(x) >= 1):\n",
        "    if (x[-1] < 5):\n",
        "        del(x[-1]);\n",
        "        continue;\n",
        "    elif (x[-1] == 5):\n",
        "        break;\n",
        "    else: #x > 5\n",
        "        print(x[-1]*2);\n",
        "        del(x[-1]);\n",
        "print(x)"
      ],
      "metadata": {
        "id": "cxo-ZsILZS9D"
      },
      "execution_count": null,
      "outputs": []
    },
    {
      "cell_type": "markdown",
      "source": [
        "# Control Flow Exercises\n",
        "\n",
        "## Easy Exercises\n",
        "\n",
        "1. Write a program that takes a number as input. If the number is divisible by 3, print \"Fizz\". If it's divisible by 5, print \"Buzz\". If it's divisible by both 3 and 5, print \"FizzBuzz\". Otherwise, print the number itself.\n",
        "\n",
        "2. Use a for loop and the range() function to print the first 10 even numbers (2, 4, 6, ..., 20).\n",
        "\n",
        "3. Create a while loop that starts with x = 0 and increments x by 1 in each iteration. Break the loop when x becomes greater than 5. Print the value of x in each iteration.\n",
        "\n",
        "4. Write a program that prints the numbers from 1 to 20. For multiples of 3, print \"Three\" instead of the number. Use continue to skip even numbers.\n",
        "\n",
        "## Medium Exercises\n",
        "\n",
        "1. Create a list of numbers from 1 to 100. Use a for loop to iterate through this list and print only the prime numbers. Use the continue keyword to skip non-prime numbers.\n",
        "\n",
        "2. Write a program that simulates a simple guessing game. Generate a random number between 1 and 100, then use a while loop to allow the user to guess the number. Provide \"too high\" or \"too low\" feedback after each guess. Use break to exit the loop when the correct number is guessed.\n",
        "\n",
        "3. Create a nested loop structure to print a right-angled triangle pattern of x characters. The number of rows should be based on user input. For example, if the user inputs 5, the output should be:  \n",
        "x   \n",
        "xx  \n",
        "xxx  \n",
        "xxxx  \n",
        "xxxxx  \n",
        "\n",
        "## Hard Exercises\n",
        "\n",
        "1. Write a program to find all prime numbers up to a given number n. Use the following approach:\n",
        "   - Create a list of all numbers from 2 to n.\n",
        "   - Starting with the first number in the list (2), mark all its multiples as non-prime.\n",
        "   - Move to the next unmarked number and repeat the process.\n",
        "   - Continue until you've processed all numbers up to the square root of n.\n",
        "   Use nested loops and the break keyword to implement this efficiently. The remaining unmarked numbers in your list will be prime.\n",
        "\n",
        "2. Write a program that finds the longest palindromic substring in a given string. Use nested loops and if/else statements to check for palindromes of different lengths. For example, in the string \"babad\", the longest palindromic substring is \"bab\" or \"aba\".\n",
        "\n",
        "## Very Hard Exercise\n",
        "\n",
        "1. Create a program that simulates a cellular automaton on a 2D grid. The program should:\n",
        "\n",
        "   a) Allow the user to:\n",
        "      - Set the grid size (e.g., 20x20)\n",
        "      - Define the initial state of cells (e.g., 'alive' or 'dead', represented by 1 or 0)\n",
        "      - Specify the number of generations to simulate\n",
        "\n",
        "   b) Implement the following rules for each cell in each generation:\n",
        "      - A cell with fewer than two 'alive' neighbors becomes 'dead'\n",
        "      - A cell with two or three 'alive' neighbors stays in its current state\n",
        "      - A cell with more than three 'alive' neighbors becomes 'dead'\n",
        "      - A 'dead' cell with exactly three 'alive' neighbors becomes 'alive'\n",
        "\n",
        "   c) Consider all eight neighboring cells (horizontal, vertical, and diagonal)\n",
        "\n",
        "   d) Update all cells simultaneously in each generation\n",
        "\n",
        "   e) Print the state of the grid after each generation\n",
        "\n",
        "   Use appropriate control structures (if/else, for/while loops, break/continue) to implement this simulation efficiently. Pay special attention to handling the edges of the grid correctly.\n"
      ],
      "metadata": {
        "id": "W1WabWSKaPxr"
      }
    },
    {
      "cell_type": "code",
      "source": [
        "# space for exercises\n",
        "\n"
      ],
      "metadata": {
        "id": "5RcoUBu8DQhe"
      },
      "execution_count": null,
      "outputs": []
    },
    {
      "cell_type": "markdown",
      "source": [
        "### Lists\n",
        "\n",
        "Basic list functions"
      ],
      "metadata": {
        "id": "qHwhVrj4A3vE"
      }
    },
    {
      "cell_type": "markdown",
      "source": [
        "### Mini exercise:\n",
        "What do the averages list and k list look like after this sequence of commands?\n",
        "\n",
        "averages = []\n",
        "\n",
        "averages = averages +  [5, 3, 8, 2.2, -4]\n",
        "\n",
        "k = averages\n",
        "\n",
        "k.reverse()\n",
        "\n",
        "k.insert(3, 0)\n",
        "\n",
        "k = k + [0,0,0]\n"
      ],
      "metadata": {
        "id": "CRUQ9eMXtMfw"
      }
    },
    {
      "cell_type": "code",
      "source": [
        "#Space for checking solution (do on paper first!)\n"
      ],
      "metadata": {
        "id": "L_mmSKq3uYaz"
      },
      "execution_count": null,
      "outputs": []
    },
    {
      "cell_type": "markdown",
      "source": [
        "### List manipulation with loops and conditionals"
      ],
      "metadata": {
        "id": "2lIuBg8RwlEO"
      }
    },
    {
      "cell_type": "code",
      "source": [
        "scores = [5, 3, 8, 2.2, -4]\n",
        "#Let's write a loop to calculate the arithmetic mean of a numerical list\n",
        "A = 0\n",
        "for i in scores:\n",
        "    A += i\n",
        "A = A/len(scores) #calculates the length of the scores list\n",
        "print(A)\n",
        "\n",
        "#OR\n",
        "A = 0\n",
        "L = len(scores)\n",
        "for i in range(0, L):\n",
        "    A += scores[i]\n",
        "A /= L\n",
        "print(A)\n",
        "\n",
        "#OR\n",
        "\n",
        "A = 0\n",
        "L = len(scores)\n",
        "for index, val in enumerate(scores):\n",
        "  A += scores[index]\n",
        "  A += val\n",
        "A /= 2*L\n",
        "print(A)"
      ],
      "metadata": {
        "id": "FjpsLfjLuh3H"
      },
      "execution_count": null,
      "outputs": []
    },
    {
      "cell_type": "code",
      "source": [
        "# Multi-dimensional lists\n",
        "A = []\n",
        "for i in range(1, 12, 3):\n",
        "    A.append([i, i+1, i+2])\n",
        "print(A)\n",
        "#what about access?\n",
        "print(A[1][2])"
      ],
      "metadata": {
        "id": "Y12vJ286xMu-"
      },
      "execution_count": null,
      "outputs": []
    },
    {
      "cell_type": "code",
      "source": [
        "#Ragged lists\n",
        "B = []\n",
        "for i in range(0, 5):\n",
        "    B.append([])\n",
        "    for j in range(0,i+1):\n",
        "        B[i].append(j)\n",
        "print(B)\n"
      ],
      "metadata": {
        "id": "53qop69_xcdu"
      },
      "execution_count": null,
      "outputs": []
    },
    {
      "cell_type": "markdown",
      "source": [
        "# List Manipulation with Loops and Conditionals\n",
        "\n",
        "## Easy Exercises\n",
        "\n",
        "1. Given a list of numbers, create a new list that contains only the even numbers from the original list. Use a loop and conditional statement.\n",
        "\n",
        "2. Write a program that takes a list of numbers and prints the largest number in the list using a loop.\n",
        "\n",
        "3. Given a list of strings, create a new list that contains only the strings with more than 5 characters. Use a loop and conditional statement.\n",
        "\n",
        "4. Write a program that takes a list of numbers and calculates the sum of all positive numbers in the list using a loop and conditional statement.\n",
        "\n",
        "## Medium Exercises\n",
        "\n",
        "1. Given a list of numbers, create two new lists: one containing all the positive numbers and another containing all the negative numbers from the original list. Use a single loop with conditional statements.\n",
        "\n",
        "2. Write a program that takes a list of numbers and replaces each number with its absolute value. Modify the original list in-place using a loop.\n",
        "\n",
        "3. Given a list of strings, create a new list where each string is reversed, but only if it has an even number of characters. Use a loop with conditional statements.\n",
        "\n",
        "## Hard Exercises\n",
        "\n",
        "1. Implement a bubble sort algorithm to sort a list of numbers in ascending order. Use nested loops and conditional statements to compare adjacent elements and swap them if they're in the wrong order. Print the list after each pass of the outer loop.\n",
        "\n",
        "2. Given a list of integers, find all pairs of numbers whose sum is equal to a given target number. Use nested loops and conditional statements. For example, if the list is [1, 5, 3, 4, 2] and the target is 7, the output should be [(5, 2), (3, 4)].\n",
        "\n",
        "## Very Hard Exercises\n",
        "\n",
        "1. Implement a program that solves the \"N-Queens\" problem for a user-specified board size N. The N-Queens problem involves placing N chess queens on an N×N chessboard so that no two queens threaten each other. Your program should:\n",
        "\n",
        "   a) Create a list of lists to represent the chessboard\n",
        "   b) Use nested loops to attempt placing queens in different positions\n",
        "   c) Use conditional statements to check if a queen can be placed in a given position (i.e., not under attack by any other queen)\n",
        "   d) If a solution is found, print the board configuration (you can use 'Q' for queens and '.' for empty squares)\n",
        "   e) If no solution is found, print \"No solution exists\"\n",
        "\n",
        "Start with small values of N (e.g., 4 or 5) and work your way up to larger board sizes."
      ],
      "metadata": {
        "id": "VwgYBXONGKg2"
      }
    },
    {
      "cell_type": "code",
      "source": [],
      "metadata": {
        "id": "kpK489f1GQ5z"
      },
      "execution_count": null,
      "outputs": []
    },
    {
      "cell_type": "markdown",
      "source": [
        "# Comprehensions\n",
        "\n",
        "Now, let's look at a more concise way of generating new lists using list comprehension.\n",
        "These do the same operations as a loop, but can be faster and more intuitive to write."
      ],
      "metadata": {
        "id": "Y1K-vO6RyRrc"
      }
    },
    {
      "cell_type": "code",
      "source": [
        "#for loop\n",
        "loop_list = []\n",
        "for i in range(0,10):\n",
        "  loop_list.append(i * 0.5)\n",
        "print(loop_list)\n",
        "\n",
        "#equivalent list comprehension\n",
        "new_list = [x/2 for x in range(0,10)]\n",
        "print(new_list)"
      ],
      "metadata": {
        "id": "Ugcas1HVxqrn"
      },
      "execution_count": null,
      "outputs": []
    },
    {
      "cell_type": "code",
      "source": [
        "#throw in if statements to modify new_list\n",
        "h_list = []\n",
        "for i in new_list:\n",
        "  if i%1 != 0: #can also say if i%1:\n",
        "    h_list.append(i)\n",
        "print(h_list)\n",
        "\n",
        "#What about only the halfway points?\n",
        "half_list = [h for h in new_list if h%1]\n",
        "print(half_list)"
      ],
      "metadata": {
        "id": "bHAZAWXWyb1v"
      },
      "execution_count": null,
      "outputs": []
    },
    {
      "cell_type": "code",
      "source": [
        "#making a true/false list\n",
        "t_list = []\n",
        "for i in new_list:\n",
        "  t_list.append(i > 2)\n",
        "print(t_list)\n",
        "\n",
        "#list comprehension\n",
        "tf_list = [x > 2 for x in new_list]\n",
        "print(tf_list)"
      ],
      "metadata": {
        "id": "dqeDXW5WzKuX"
      },
      "execution_count": null,
      "outputs": []
    },
    {
      "cell_type": "code",
      "source": [
        "#what about multidimensional lists?\n",
        "multi_list = [[i, i+1] for i in new_list[5:]]\n",
        "print(multi_list)\n",
        "\n",
        "ragged_list = [[j for j in range(0,i+1)] for i in range(0,5)]\n",
        "print(ragged_list)\n"
      ],
      "metadata": {
        "id": "9tSUBWy1z0HU"
      },
      "execution_count": null,
      "outputs": []
    },
    {
      "cell_type": "markdown",
      "source": [
        "### Basic Exercises\n",
        "\n",
        "1) Write a loop that finds the maximum element in a list\n",
        "\n",
        "2) Generate a list using list comprehension that stores whether an element in an original list is even or odd\n",
        "\n",
        "3) Generate the loop versions of the list comprehension examples for ragged and multidimensional lists\n",
        "\n",
        "### Medium Exercises\n",
        "\n",
        "1) Create a multidimensional list of coordinate pairs as tuples with grid points every 0.1 units, starting from the lower left corner of quadrant three and building upwards.\n",
        "Format should be like below, but with finer spacing:\n",
        "\n",
        "[[(-1, -1), (-0.5, -1), (0, -1), (0.5, -1), (1,-1)],\n",
        "\n",
        "[-1, -0.5), (-0.5, -0.5), (0, -0.5), (0.5, -0.5), (1, -0.5)]\n",
        "\n",
        "...]\n",
        "\n",
        "2) Do the same, but exclude grid points that in any way involve the number 7."
      ],
      "metadata": {
        "id": "0GsL6qNy02rM"
      }
    },
    {
      "cell_type": "code",
      "source": [
        "#write your solutions here"
      ],
      "metadata": {
        "id": "rG47u8qY1Rrw"
      },
      "execution_count": null,
      "outputs": []
    },
    {
      "cell_type": "markdown",
      "source": [
        "#Functions\n",
        "Here, we discuss the basics regarding functions\n"
      ],
      "metadata": {
        "id": "C805uK8eflIw"
      }
    },
    {
      "cell_type": "code",
      "source": [
        "#First, we define a function with no input and no return value\n",
        "\n",
        "def useless_function():\n",
        "    k = 3\n",
        "    list_k = [n for n in range(1,k)]\n",
        "    print(list_k)\n",
        "\n",
        "#We can call the function as such:\n",
        "U = useless_function()\n",
        "print(U)"
      ],
      "metadata": {
        "id": "dD7DfctdArBN",
        "colab": {
          "base_uri": "https://localhost:8080/"
        },
        "outputId": "1e2d40e7-f01e-4a7f-d32a-b13a4903d523"
      },
      "execution_count": null,
      "outputs": [
        {
          "output_type": "stream",
          "name": "stdout",
          "text": [
            "[1, 2]\n",
            "None\n"
          ]
        }
      ]
    },
    {
      "cell_type": "code",
      "source": [
        "#one input, one output.\n",
        "#For any positive integer N, returns a list of all factors of N.\n",
        "#input: N, integer\n",
        "#output: List containing all factors of N.\n",
        "def find_factors(N):\n",
        "    factor_list = []\n",
        "    for i in range(1,N+1):\n",
        "        if N%i == 0:\n",
        "            factor_list.append(i)\n",
        "    return factor_list\n",
        "\n",
        "find_factors(800)"
      ],
      "metadata": {
        "id": "HJP28ZxCelPo",
        "colab": {
          "base_uri": "https://localhost:8080/"
        },
        "outputId": "aec0b474-d3b9-43ca-d9ad-2f0d9abd6ca1"
      },
      "execution_count": null,
      "outputs": [
        {
          "output_type": "execute_result",
          "data": {
            "text/plain": [
              "[1, 2, 4, 5, 8, 10, 16, 20, 25, 32, 40, 50, 80, 100, 160, 200, 400, 800]"
            ]
          },
          "metadata": {},
          "execution_count": 4
        }
      ]
    },
    {
      "cell_type": "code",
      "source": [
        "#We can include as many inputs as we like, and determine outputs by the return keyword\n",
        "#input_list, const \"live inside\" multiply_list.\n",
        "def multiply_list(input_list, const):\n",
        "    return [n * const for n in input_list]\n",
        "\n",
        "M = multiply_list([1,2,3], 4)\n",
        "print(M)\n",
        "[1,2,3]*4"
      ],
      "metadata": {
        "id": "xAD8o-AQepDH",
        "colab": {
          "base_uri": "https://localhost:8080/"
        },
        "outputId": "15c49bbb-4690-4529-82bd-281cdd6112b8"
      },
      "execution_count": null,
      "outputs": [
        {
          "output_type": "stream",
          "name": "stdout",
          "text": [
            "[4, 8, 12]\n"
          ]
        },
        {
          "output_type": "execute_result",
          "data": {
            "text/plain": [
              "[1, 2, 3, 1, 2, 3, 1, 2, 3, 1, 2, 3]"
            ]
          },
          "metadata": {},
          "execution_count": 8
        }
      ]
    },
    {
      "cell_type": "markdown",
      "source": [],
      "metadata": {
        "id": "tlyKBBKXiw_R"
      }
    },
    {
      "cell_type": "code",
      "source": [
        "#We can also give default values to function elements, or pass in other arguments not yet specified\n",
        "def multiply_list_2(input_list, const = 3, **kwargs):\n",
        "    for x in kwargs:\n",
        "        print(x)\n",
        "    return[n * const for n in input_list], const\n",
        "\n",
        "res_list, const_val = multiply_list_2([1,2,3,4], 4, extra = 3, telluride = 4)\n",
        "\n",
        "print(res_list)\n",
        "print(const_val)"
      ],
      "metadata": {
        "id": "ebpSGsKVex9e",
        "colab": {
          "base_uri": "https://localhost:8080/"
        },
        "outputId": "f407cecd-ecf4-4611-ffab-713426d3ee2f"
      },
      "execution_count": null,
      "outputs": [
        {
          "output_type": "stream",
          "name": "stdout",
          "text": [
            "extra\n",
            "telluride\n",
            "[4, 8, 12, 16]\n",
            "4\n"
          ]
        }
      ]
    },
    {
      "cell_type": "code",
      "source": [
        "#recursion -- you can call functions within themselves, but be sure to have a base case!\n",
        "def factorial(n):\n",
        "    if n <= 1:\n",
        "        return 1\n",
        "    return n*factorial(n-1)\n",
        "\n",
        "print(factorial(20))"
      ],
      "metadata": {
        "id": "ZVT_yx22e04L",
        "colab": {
          "base_uri": "https://localhost:8080/"
        },
        "outputId": "0018a668-348d-408f-ecb5-e7589b8f2d6f"
      },
      "execution_count": null,
      "outputs": [
        {
          "output_type": "stream",
          "name": "stdout",
          "text": [
            "2432902008176640000\n"
          ]
        }
      ]
    },
    {
      "cell_type": "markdown",
      "source": [
        "# Functions Exercises\n",
        "\n",
        "## Easy Exercises\n",
        "\n",
        "1. Write a function called `is_even` that takes an integer as an argument and returns True if the number is even, and False otherwise.\n",
        "\n",
        "2. Create a function called `greet` that takes a name as an argument and returns a greeting string. For example, if the input is \"Alice\", it should return \"Hello, Alice!\".\n",
        "\n",
        "3. Write a function called `calculate_area` that takes the radius of a circle as an argument and returns its area. Use the approximation 3.14 for pi.\n",
        "\n",
        "4. Create a function called `reverse_string` that takes a string as an argument and returns the reversed string.\n",
        "\n",
        "## Medium Exercises\n",
        "\n",
        "1. Write a function called `fibonacci` that takes an integer n as an argument and returns the nth number in the Fibonacci sequence. (Assume the sequence starts with 0 and 1.)\n",
        "\n",
        "2. Create a function called `is_palindrome` that takes a string as an argument and returns True if the string is a palindrome (reads the same forwards and backwards, ignoring spaces and punctuation), and False otherwise.\n",
        "\n",
        "3. Write a function called `prime_factors` that takes an integer as an argument and returns a list of its prime factors.\n",
        "\n",
        "## Hard Exercises\n",
        "\n",
        "1. Create a function called `merge_sorted_lists` that takes two sorted lists as arguments and returns a new sorted list containing all elements from both input lists. Do not use Python's built-in sorting functions.\n",
        "\n",
        "2. Write a recursive function called `power` that takes two arguments, base and exponent, and returns base raised to the exponent. Do not use the built-in power operator (**) or math functions.\n",
        "\n",
        "## Very Hard Exercise\n",
        "\n",
        "1. Implement a text analysis toolkit with the following functions:\n",
        "\n",
        "   a) `word_frequency(text)`:\n",
        "      - Input: A string of text\n",
        "      - Output: A dictionary with words as keys and their frequencies as values\n",
        "      - Should ignore punctuation and be case-insensitive\n",
        "\n",
        "   b) `top_n_words(text, n)`:\n",
        "      - Input: A string of text and an integer n\n",
        "      - Output: A list of the n most frequent words, sorted by frequency\n",
        "\n",
        "   c) `sentence_tokenize(text)`:\n",
        "      - Input: A string of text\n",
        "      - Output: A list of sentences\n",
        "      - Should handle various sentence-ending punctuation (.!?)\n",
        "\n",
        "   d) `cosine_similarity(text1, text2)`:\n",
        "      - Input: Two strings of text\n",
        "      - Output: A float between 0 and 1 representing the cosine similarity of the texts\n",
        "\n",
        "   e) `summarize(text, num_sentences)`:\n",
        "      - Input: A string of text and the desired number of sentences for the summary\n",
        "      - Output: A summary of the text with the specified number of sentences\n",
        "      - Use a simple extractive summarization technique (e.g., selecting the most representative sentences based on word frequency)\n",
        "\n",
        "   f) `generate_ngrams(text, n)`:\n",
        "      - Input: A string of text and an integer n\n",
        "      - Output: A list of all n-grams in the text\n",
        "\n",
        "   Implement these functions efficiently, handling edge cases and potential errors. Then, create a main function that demonstrates the use of all these functions on a sample text (you can use a famous speech or article).\n"
      ],
      "metadata": {
        "id": "IoXR3n_fe_Yv"
      }
    },
    {
      "cell_type": "markdown",
      "source": [
        "# Numpy"
      ],
      "metadata": {
        "id": "ZHtV2v9BIGB0"
      }
    },
    {
      "cell_type": "markdown",
      "source": [
        "NumPy (Numerical Python) is a fundamental library for scientific computing in Python, providing support for large, multi-dimensional arrays and matrices. Its core object is the ndarray (n-dimensional array), which allows for efficient operations on large datasets. NumPy's strength lies in its ability to perform rapid array-wise computations and its collection of mathematical functions.\n",
        "\n",
        "NumPy is highly optimized for performance, making it much faster than traditional Python lists for numerical operations. It leverages low-level optimizations and provides an interface to C, C++, and Fortran libraries."
      ],
      "metadata": {
        "id": "F2gstUl5ILVt"
      }
    },
    {
      "cell_type": "code",
      "source": [
        "# First, we need to import NumPy. It's common to import it as 'np'\n",
        "import numpy as np\n",
        "\n",
        "# Creating NumPy arrays\n",
        "\n",
        "# 1. Creating an array from a Python list\n",
        "list_array = np.array([1, 2, 3, 4, 5])\n",
        "print(\"Array from list:\", list_array)\n",
        "\n",
        "# 2. Creating an array of zeros\n",
        "zeros_array = np.zeros(5)\n",
        "print(\"Array of zeros:\", zeros_array)\n",
        "\n",
        "# 3. Creating an array of ones\n",
        "ones_array = np.ones(5)\n",
        "print(\"Array of ones:\", ones_array)\n",
        "\n",
        "# 4. Creating an array with a range of values\n",
        "range_array = np.arange(0, 10, 2)  # Start at 0, end before 10, step by 2\n",
        "print(\"Array with range:\", range_array)\n",
        "\n",
        "# 5. Creating a 2D array (matrix)\n",
        "matrix = np.array([[1, 2, 3], [4, 5, 6], [7, 8, 9]])\n",
        "print(\"2D array (matrix):\\n\", matrix)"
      ],
      "metadata": {
        "colab": {
          "base_uri": "https://localhost:8080/"
        },
        "id": "gXx4aEE9ICR3",
        "outputId": "f8e6aea9-261c-47d6-a072-c7cdccb060d9"
      },
      "execution_count": null,
      "outputs": [
        {
          "output_type": "stream",
          "name": "stdout",
          "text": [
            "Array from list: [1 2 3 4 5]\n",
            "Array of zeros: [0. 0. 0. 0. 0.]\n",
            "Array of ones: [1. 1. 1. 1. 1.]\n",
            "Array with range: [0 2 4 6 8]\n",
            "2D array (matrix):\n",
            " [[1 2 3]\n",
            " [4 5 6]\n",
            " [7 8 9]]\n"
          ]
        }
      ]
    },
    {
      "cell_type": "code",
      "source": [
        "# Basic array operations and attributes\n",
        "\n",
        "# 1. Array shape -- tells you how many rows and columns the array has, in that order\n",
        "arr = np.array([[1, 2, 3], [4, 5, 6]])\n",
        "print(\"Array shape:\", arr.shape)\n",
        "\n",
        "# 2. Array dimensions -- tells you if the array is 1D, (a vector), 2D (a matrix), etc.\n",
        "print(\"Number of dimensions:\", arr.ndim)\n",
        "\n",
        "# 3. Total number of elements\n",
        "print(\"Total elements:\", arr.size)\n",
        "\n",
        "# 4. Data type of elements\n",
        "print(\"Data type:\", arr.dtype)\n",
        "\n",
        "# 5. Reshaping arrays\n",
        "reshaped = arr.reshape(3, 2)\n",
        "print(\"Reshaped array:\\n\", reshaped)\n",
        "\n",
        "# 6. Flattening arrays\n",
        "flattened = arr.flatten()\n",
        "print(\"Flattened array:\", flattened)"
      ],
      "metadata": {
        "id": "0sBioJ1vIIj7",
        "colab": {
          "base_uri": "https://localhost:8080/"
        },
        "outputId": "07ee4d41-62b4-45c6-db2a-24b229598499"
      },
      "execution_count": null,
      "outputs": [
        {
          "output_type": "stream",
          "name": "stdout",
          "text": [
            "Array shape: (2, 3)\n",
            "Number of dimensions: 2\n",
            "Total elements: 6\n",
            "Data type: int64\n",
            "Reshaped array:\n",
            " [[1 2]\n",
            " [3 4]\n",
            " [5 6]]\n",
            "Flattened array: [1 2 3 4 5 6]\n"
          ]
        }
      ]
    },
    {
      "cell_type": "code",
      "source": [
        "# Array indexing and slicing\n",
        "arr = np.array([[1, 2, 3, 4], [5, 6, 7, 8], [9, 10, 11, 12]])\n",
        "print('Array:\\n', arr)"
      ],
      "metadata": {
        "id": "wKuB6YGQKWRD",
        "colab": {
          "base_uri": "https://localhost:8080/"
        },
        "outputId": "a23e790c-f439-4f7f-b39d-88628e6d0d53"
      },
      "execution_count": null,
      "outputs": [
        {
          "output_type": "stream",
          "name": "stdout",
          "text": [
            "Array:\n",
            " [[ 1  2  3  4]\n",
            " [ 5  6  7  8]\n",
            " [ 9 10 11 12]]\n"
          ]
        }
      ]
    },
    {
      "cell_type": "code",
      "source": [
        "# Indexing arrays -- Arrays are indexed in the row, column order. Note that indexing starts at 0!\n",
        "print(\"Element at row 1, column 2:\", arr[1, 2])\n",
        "\n",
        "# Slicing -- You can use a colon as a placeholder for several rows or columns.\n",
        "# A single colon in the column (or row) spot will select every column (or row):\n",
        "\n",
        "print(\"First column:\\n\", arr[:, 0])\n",
        "print(\"First row:\\n\", arr[0,:])\n",
        "\n",
        "#You can also use a colon combined with an integer to select parts of a row or column\n",
        "# For example, :2 selects everything up to (but not including) 2.\n",
        "# On the other hand, 2: selects 2 and everything afer it.\n",
        "print(\"First three elements of the first column:\\n\", arr[:3, 0])\n",
        "print(\"First three elements of the first row:\\n\", arr[0, :3])\n",
        "print(\"First three rows:\\n\", arr[:3,:]) # Notice here we're selecting the first three rows and EVERY column."
      ],
      "metadata": {
        "colab": {
          "base_uri": "https://localhost:8080/"
        },
        "id": "DvT9rRZBKYlU",
        "outputId": "66791d69-69c9-4ef3-dfa9-5e18f8dbb4be"
      },
      "execution_count": null,
      "outputs": [
        {
          "output_type": "stream",
          "name": "stdout",
          "text": [
            "Element at row 1, column 2: 7\n",
            "First column:\n",
            " [1 5 9]\n",
            "First row:\n",
            " [1 2 3 4]\n",
            "First three elements of the first column:\n",
            " [1 5 9]\n",
            "First three elements of the first row:\n",
            " [1 2 3]\n",
            "First three rows:\n",
            " [[ 1  2  3  4]\n",
            " [ 5  6  7  8]\n",
            " [ 9 10 11 12]]\n"
          ]
        }
      ]
    },
    {
      "cell_type": "code",
      "source": [
        "# Boolean indexing\n",
        "# You can index arrays using True/False values!\n",
        "bool_index = arr > 5\n",
        "print('Indexing array:', bool_index)\n",
        "\n",
        "# Here, bool_index is an array of the same shape as arr\n",
        "# each element of bool_index says where to select the\n",
        "# corresponding index of arr\n",
        "print(\"Elements greater than 5:\\n\", arr[bool_index])\n",
        "\n",
        "# Fancy indexing\n",
        "# You can also index with a list to select specific rows\n",
        "fancy_index = np.array([0, 2])\n",
        "print(\"First and third rows:\\n\", arr[fancy_index])"
      ],
      "metadata": {
        "colab": {
          "base_uri": "https://localhost:8080/"
        },
        "id": "7PonoYz1I5-1",
        "outputId": "8ebf7f76-aa1e-4794-8f0b-4af05eb3ff13"
      },
      "execution_count": null,
      "outputs": [
        {
          "output_type": "stream",
          "name": "stdout",
          "text": [
            "Indexing array: [[False False False False]\n",
            " [False  True  True  True]\n",
            " [ True  True  True  True]]\n",
            "Elements greater than 5:\n",
            " [ 6  7  8  9 10 11 12]\n",
            "First and third rows:\n",
            " [[ 1  2  3  4]\n",
            " [ 9 10 11 12]]\n"
          ]
        }
      ]
    },
    {
      "cell_type": "code",
      "source": [
        "# Mathematical operations with NumPy arrays\n",
        "\n",
        "a = np.array([1, 2, 3])\n",
        "b = np.array([4, 5, 6])\n",
        "C = np.array([[1,2,4],[5,6,7],[8,9,10]])\n",
        "D = np.array([[11,12,13],[14,15,16],[17,18,19]])\n",
        "\n",
        "# 1. Element-wise addition\n",
        "print(\"a + b =\", a + b)\n",
        "\n",
        "# 2. Element-wise subtraction\n",
        "print(\"a - b =\", a - b)\n",
        "\n",
        "# 3. Element-wise multiplication\n",
        "print(\"a * b =\", a * b)\n",
        "\n",
        "# 4. Element-wise division\n",
        "print(\"a / b =\", a / b)\n",
        "\n",
        "# 5. Scalar operations\n",
        "print(\"a * 2 =\", a * 2)\n",
        "\n",
        "# 6. Sum of all elements\n",
        "print(\"Sum of a:\", np.sum(a))\n",
        "\n",
        "# 7. Mean of all elements\n",
        "print(\"Mean of a:\", np.mean(a))\n",
        "\n",
        "# 8. Maximum and minimum\n",
        "print(\"Max of a:\", np.max(a))\n",
        "print(\"Min of a:\", np.min(a))\n",
        "\n",
        "# 10. Matrix multiplication\n",
        "print('CD:', C@D)\n",
        "print('C^TD:', C.T@D)\n",
        "print('Ca:', C@a)\n",
        "print('a^T C:', a.T@C)\n",
        "print('aC:', a@C) # Notice how numpy automatically matches the shapes for you"
      ],
      "metadata": {
        "colab": {
          "base_uri": "https://localhost:8080/"
        },
        "id": "KLhxy2YVJArE",
        "outputId": "77ba13aa-777b-4ed0-8317-e077252b1b1c"
      },
      "execution_count": null,
      "outputs": [
        {
          "output_type": "stream",
          "name": "stdout",
          "text": [
            "a + b = [5 7 9]\n",
            "a - b = [-3 -3 -3]\n",
            "a * b = [ 4 10 18]\n",
            "a / b = [0.25 0.4  0.5 ]\n",
            "a * 2 = [2 4 6]\n",
            "Sum of a: 6\n",
            "Mean of a: 2.0\n",
            "Max of a: 3\n",
            "Min of a: 1\n",
            "CD: [[107 114 121]\n",
            " [258 276 294]\n",
            " [384 411 438]]\n",
            "C^TD: [[217 231 245]\n",
            " [259 276 293]\n",
            " [312 333 354]]\n",
            "Ca: [17 38 56]\n",
            "a^T C: [35 41 48]\n",
            "aC: [35 41 48]\n"
          ]
        }
      ]
    },
    {
      "cell_type": "markdown",
      "source": [
        "### Other capabilities\n",
        "\n",
        "Numpy comes with built in support for operations on arrays\n",
        "in lots of different areas:\n",
        "\n",
        "**Linear Algebra**: NumPy has robust support for linear algebra operations, including matrix multiplication, determinants, eigenvalues, and solving systems of linear equations. It also provides functions for working with vectors and matrices efficiently.\n"
      ],
      "metadata": {
        "id": "6oDhpxgMisfx"
      }
    },
    {
      "cell_type": "code",
      "source": [
        "# Create two matrices\n",
        "A = np.array([[1, 2], [3, 4]])\n",
        "B = np.array([[5, 6], [7, 8]])\n",
        "print('A:')\n",
        "print(A)\n",
        "print('B:')\n",
        "print(B)"
      ],
      "metadata": {
        "colab": {
          "base_uri": "https://localhost:8080/"
        },
        "id": "FwhVdQGGjKFd",
        "outputId": "fe01d17b-4f50-424a-f4d3-d9947e4c2c57"
      },
      "execution_count": null,
      "outputs": [
        {
          "output_type": "stream",
          "name": "stdout",
          "text": [
            "A:\n",
            "[[1 2]\n",
            " [3 4]]\n",
            "B:\n",
            "[[5 6]\n",
            " [7 8]]\n"
          ]
        }
      ]
    },
    {
      "cell_type": "code",
      "source": [
        "# Determinant of a matrix\n",
        "det_A = np.linalg.det(A)\n",
        "print(\"\\nDeterminant of A:\")\n",
        "print(det_A)"
      ],
      "metadata": {
        "colab": {
          "base_uri": "https://localhost:8080/"
        },
        "id": "fOBY4rU5jfAd",
        "outputId": "d3285cdc-94e7-47ea-c6d4-e76ec3fd2bf4"
      },
      "execution_count": null,
      "outputs": [
        {
          "output_type": "stream",
          "name": "stdout",
          "text": [
            "\n",
            "Determinant of A:\n",
            "-2.0000000000000004\n"
          ]
        }
      ]
    },
    {
      "cell_type": "code",
      "source": [
        "# Eigenvalues and eigenvectors\n",
        "eigenvalues, eigenvectors = np.linalg.eig(A)\n",
        "print(\"\\nEigenvalues of A:\")\n",
        "print(eigenvalues)\n",
        "print(\"Eigenvectors of A:\")\n",
        "print(eigenvectors)"
      ],
      "metadata": {
        "colab": {
          "base_uri": "https://localhost:8080/"
        },
        "id": "WSoUAR0Jjg9w",
        "outputId": "d021d79b-bb96-481c-af61-8cb1b2025349"
      },
      "execution_count": null,
      "outputs": [
        {
          "output_type": "stream",
          "name": "stdout",
          "text": [
            "\n",
            "Eigenvalues of A:\n",
            "[-0.37228132  5.37228132]\n",
            "Eigenvectors of A:\n",
            "[[-0.82456484 -0.41597356]\n",
            " [ 0.56576746 -0.90937671]]\n"
          ]
        }
      ]
    },
    {
      "cell_type": "code",
      "source": [
        "# Calculating the norm of a vector\n",
        "vector = np.array([3, 4])\n",
        "\n",
        "# Calculate different norms of the vector\n",
        "norm_2 = np.linalg.norm(vector, ord=2) # the ord keyword specifies the type of norm to use\n",
        "norm_inf = np.linalg.norm(vector, ord=np.inf) # you can use np.inf for infinity\n",
        "\n",
        "# Calculate Frobenius norm of a matrix\n",
        "fro_norm = np.linalg.norm(A, ord='fro')\n",
        "\n",
        "print(\"Vector:\", vector)\n",
        "print(\"2 norm:\", norm_2)\n",
        "print(\"infinity norm:\", norm_inf)\n",
        "\n",
        "print(\"Matrix A:\", A)\n",
        "print(\"Frobenius norm:\", fro_norm)"
      ],
      "metadata": {
        "colab": {
          "base_uri": "https://localhost:8080/"
        },
        "id": "LB8MpP_sjtpo",
        "outputId": "3c589e2d-b580-4846-cae1-a64f78effff0"
      },
      "execution_count": null,
      "outputs": [
        {
          "output_type": "stream",
          "name": "stdout",
          "text": [
            "Vector: [3 4]\n",
            "2 norm: 5.0\n",
            "infinity norm: 4.0\n",
            "Matrix A: [[1 2]\n",
            " [3 4]]\n",
            "Frobenius norm: 5.477225575051661\n"
          ]
        }
      ]
    },
    {
      "cell_type": "markdown",
      "source": [
        "\n",
        "**Random Number Generation**: NumPy includes a random module for generating random numbers. You can generate random numbers from various distributions, create random samples, and perform random shuffling."
      ],
      "metadata": {
        "id": "pWKPsJfEi_Df"
      }
    },
    {
      "cell_type": "code",
      "source": [
        "# Generate a 3x3 array of random numbers from a uniform distribution\n",
        "random_array = np.random.rand(3, 3)\n",
        "print(\"3x3 Array of Random Numbers:\")\n",
        "print(random_array)\n",
        "\n",
        "# Generate random integers between 0 and 10\n",
        "random_integers = np.random.randint(0, 10, size=5)\n",
        "print(\"\\nArray of Random Integers:\")\n",
        "print(random_integers)\n",
        "\n",
        "# Shuffle a list randomly\n",
        "array_to_shuffle = np.array([1, 2, 3, 4, 5])\n",
        "np.random.shuffle(array_to_shuffle)\n",
        "print(\"\\nShuffled Array:\")\n",
        "print(array_to_shuffle)"
      ],
      "metadata": {
        "colab": {
          "base_uri": "https://localhost:8080/"
        },
        "id": "GLNeWyAcjOvv",
        "outputId": "e36e73cd-be19-4d0f-9649-9d87eebc823e"
      },
      "execution_count": null,
      "outputs": [
        {
          "output_type": "stream",
          "name": "stdout",
          "text": [
            "3x3 Array of Random Numbers:\n",
            "[[0.59494821 0.63574694 0.99774812]\n",
            " [0.74851054 0.39982304 0.93253208]\n",
            " [0.0475475  0.5203693  0.14793072]]\n",
            "\n",
            "Array of Random Integers:\n",
            "[9 0 5 3 9]\n",
            "\n",
            "Shuffled Array:\n",
            "[3 4 5 2 1]\n",
            "\n",
            "Statistical Functions Example:\n",
            "Mean:\n",
            "28.0\n",
            "\n",
            "Median:\n",
            "20.0\n",
            "\n",
            "Standard Deviation:\n",
            "14.696938456699069\n",
            "\n",
            "Variance:\n",
            "216.0\n"
          ]
        }
      ]
    },
    {
      "cell_type": "markdown",
      "source": [
        "**Statistical Functions**: NumPy offers a wide range of statistical functions to compute mean, median, standard deviation, variance, and more. These functions are optimized for performance and can handle large datasets."
      ],
      "metadata": {
        "id": "CO7mo7EHjPE7"
      }
    },
    {
      "cell_type": "code",
      "source": [
        "# Create an array of data\n",
        "data = np.array([10, 20, 20, 40, 50])\n",
        "\n",
        "# Calculate mean\n",
        "mean_value = np.mean(data)\n",
        "print(\"Mean:\")\n",
        "print(mean_value)\n",
        "\n",
        "# Calculate median\n",
        "median_value = np.median(data)\n",
        "print(\"\\nMedian:\")\n",
        "print(median_value)\n",
        "\n",
        "# Calculate standard deviation\n",
        "std_dev = np.std(data)\n",
        "print(\"\\nStandard Deviation:\")\n",
        "print(std_dev)\n",
        "\n",
        "# Calculate variance\n",
        "variance = np.var(data)\n",
        "print(\"\\nVariance:\")\n",
        "print(variance)"
      ],
      "metadata": {
        "colab": {
          "base_uri": "https://localhost:8080/"
        },
        "id": "kBxBE33xjTqA",
        "outputId": "05881321-9a2a-450c-ab96-53249b0b9dda"
      },
      "execution_count": null,
      "outputs": [
        {
          "output_type": "stream",
          "name": "stdout",
          "text": [
            "Mean:\n",
            "28.0\n",
            "\n",
            "Median:\n",
            "20.0\n",
            "\n",
            "Standard Deviation:\n",
            "14.696938456699069\n",
            "\n",
            "Variance:\n",
            "216.0\n"
          ]
        }
      ]
    },
    {
      "cell_type": "markdown",
      "source": [
        "\n",
        "**Numerical Integration**: NumPy includes tools for numerical integration, allowing you to approximate the integral of a function, which is essential in many scientific and engineering applications."
      ],
      "metadata": {
        "id": "Ry0ipYzMjUSn"
      }
    },
    {
      "cell_type": "code",
      "source": [
        "# Define the function to integrate\n",
        "def f(x):\n",
        "    return np.sin(x)\n",
        "\n",
        "# Create an array of 1000 x-values from 0 to pi\n",
        "x = np.linspace(0, np.pi, 1000)\n",
        "\n",
        "# Evaluate the function at each x value\n",
        "y = f(x)\n",
        "\n",
        "# Perform numerical integration using the trapezoidal rule\n",
        "integral = np.trapz(y, x)\n",
        "\n",
        "print(\"Numerical Integration Result using trapezoidal rule:\")\n",
        "print(integral)"
      ],
      "metadata": {
        "colab": {
          "base_uri": "https://localhost:8080/"
        },
        "id": "cbenUHoPllmV",
        "outputId": "52a5834a-8753-44ab-bdd9-0f4be25b37a1"
      },
      "execution_count": null,
      "outputs": [
        {
          "output_type": "stream",
          "name": "stdout",
          "text": [
            "Numerical Integration Result using trapezoidal rule:\n",
            "1.999998351770852\n"
          ]
        }
      ]
    },
    {
      "cell_type": "markdown",
      "source": [
        "# NumPy Exercises\n",
        "\n",
        "## Easy Exercises\n",
        "\n",
        "1. Create a 1D NumPy array of 10 random integers between 1 and 100. Then, print all elements greater than 50.\n",
        "\n",
        "2. Create a 2D NumPy array with shape (3, 3) containing random float numbers between 0 and 1. Calculate and print the sum of each column.\n",
        "\n",
        "3. Given the array `arr = np.array([1, 2, 3, 4, 5])`, create a new array where each element is the square of the corresponding element in `arr`.\n",
        "\n",
        "4. Create two 1D arrays, each with 5 random integers between 1 and 10. Perform element-wise multiplication of these arrays and print the result.\n",
        "\n",
        "## Medium Exercises\n",
        "\n",
        "1. Create a 2D array of shape (5, 5) containing random integers between 1 and 25. Then, replace all even numbers with 0 and all odd numbers with 1.\n",
        "\n",
        "2. Given an array `arr = np.array([1, 2, 3, 4, 5, 6, 7, 8, 9, 10])`, use NumPy operations to reverse the array, then reshape it into a 2x5 matrix.\n",
        "\n",
        "3. Create a 1D array of 20 linearly spaced numbers between 0 and 1. Then, reshape this array into a 4x5 matrix and compute the mean of each row.\n",
        "\n",
        "## Hard Exercises\n",
        "\n",
        "1. Create a 2D array of shape (10, 10) containing random integers between 1 and 100. Find and print the indices of the minimum value in each row using NumPy functions.\n",
        "\n",
        "2. Given two 2D arrays `A` and `B`, both of shape (3, 3), compute the matrix product of A and B using NumPy. Then, calculate the determinant of the resulting matrix.\n",
        "\n",
        "## Very Hard Exercise\n",
        "\n",
        "Implement a function `subspace_projector(A)` that does the following:\n",
        "\n",
        "1. Take as input a matrix A of shape (m, n), where m > n.\n",
        "\n",
        "2. Compute the reduced QR decomposition of A using NumPy's `np.linalg.qr()` with mode='reduced'.\n",
        "\n",
        "3. Using the Q from the QR decomposition, create a function `project(v)` that:\n",
        "   a) Takes a vector v of length m\n",
        "   b) Projects v onto the column space of A\n",
        "   c) Returns both the projected vector and the component of v orthogonal to the column space of A\n",
        "\n",
        "4. Implement a function `is_in_column_space(v, tolerance=1e-8)` that:\n",
        "   a) Takes a vector v of length m\n",
        "   b) Returns True if v is in the column space of A (up to the given tolerance), False otherwise\n",
        "\n",
        "5. Create a function `find_basis_for_nullspace()` that:\n",
        "   a) Computes the singular value decomposition (SVD) of A\n",
        "   b) Uses the singular values to determine the dimension of the nullspace\n",
        "   c) Returns a matrix whose columns form an orthonormal basis for the nullspace of A\n",
        "\n",
        "Test your implementation with:\n",
        "1. A random 5x3 matrix\n",
        "2. A matrix with linearly dependent columns\n",
        "3. A matrix close to having linearly dependent columns (to test numerical stability)\n",
        "\n",
        "For each test case:\n",
        "- Print the original matrix A\n",
        "- Project a random vector onto the column space of A and print both components\n",
        "- Test if various vectors are in the column space of A\n",
        "- Print the basis for the nullspace of A\n",
        "\n",
        "This exercise combines several key concepts in linear algebra:\n",
        "- QR decomposition\n",
        "- Orthogonal projections\n",
        "- Column space and nullspace\n",
        "- Singular Value Decomposition\n",
        "- Numerical tolerance in computations\n",
        "\n",
        "It requires understanding of these concepts as well as careful use of NumPy functions and array manipulations."
      ],
      "metadata": {
        "id": "idKhxy_wMGrw"
      }
    },
    {
      "cell_type": "code",
      "source": [],
      "metadata": {
        "id": "99ja0OIXKkHY"
      },
      "execution_count": null,
      "outputs": []
    }
  ]
}